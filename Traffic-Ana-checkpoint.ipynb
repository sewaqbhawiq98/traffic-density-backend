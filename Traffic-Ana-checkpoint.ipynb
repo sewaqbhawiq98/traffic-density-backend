{
 "cells": [
  {
   "cell_type": "code",
   "execution_count": 1,
   "id": "7caa465e-58fe-4892-bb62-d67ad9e151fb",
   "metadata": {
    "scrolled": true
   },
   "outputs": [
    {
     "name": "stdout",
     "output_type": "stream",
     "text": [
      "Processing frame 0...\n",
      "\n",
      "0: 384x640 1 Car, 883.4ms\n",
      "Speed: 3.6ms preprocess, 883.4ms inference, 1.6ms postprocess per image at shape (1, 3, 384, 640)\n",
      "Detected at frame 0: {'CAR': 1}\n",
      "Processing frame 299...\n",
      "\n",
      "0: 384x640 1 Car, 793.3ms\n",
      "Speed: 1.8ms preprocess, 793.3ms inference, 1.0ms postprocess per image at shape (1, 3, 384, 640)\n",
      "Detected at frame 299: {'CAR': 1}\n",
      "Processing frame 598...\n",
      "\n",
      "0: 384x640 1 BUS, 739.0ms\n",
      "Speed: 1.5ms preprocess, 739.0ms inference, 0.8ms postprocess per image at shape (1, 3, 384, 640)\n",
      "Detected at frame 598: {'BUS': 1}\n",
      "End of video or error encountered.\n",
      "Video processing completed.\n"
     ]
    }
   ],
   "source": [
    "import cv2\n",
    "import time\n",
    "from collections import defaultdict\n",
    "from ultralytics import YOLO\n",
    "import firebase_admin\n",
    "from firebase_admin import credentials, firestore\n",
    "\n",
    "# Initialize Firebase Admin\n",
    "cred = credentials.Certificate(\"traffic.json\")  # path to your service account key\n",
    "firebase_admin.initialize_app(cred)\n",
    "db = firestore.client()\n",
    "\n",
    "# Load YOLO model (make sure 'best.pt' is in the same directory or use full path)\n",
    "model = YOLO(\"best.pt\")\n",
    "\n",
    "# Open video file\n",
    "video_path = \"videoplayback (1).mp4\"\n",
    "cap = cv2.VideoCapture(video_path)\n",
    "\n",
    "if not cap.isOpened():\n",
    "    print(\"Error: Could not open video.\")\n",
    "    exit()\n",
    "\n",
    "# Get FPS and set frame interval (every 10 seconds)\n",
    "fps = cap.get(cv2.CAP_PROP_FPS)\n",
    "frame_interval = int(fps * 10)\n",
    "frame_count = 0\n",
    "\n",
    "# Firestore document reference\n",
    "doc_ref = db.collection(\"Camera\").document(\"1\")\n",
    "\n",
    "while cap.isOpened():\n",
    "    ret, frame = cap.read()\n",
    "    if not ret:\n",
    "        print(\"End of video or error encountered.\")\n",
    "        break\n",
    "\n",
    "    if frame_count % frame_interval == 0:\n",
    "        print(f\"Processing frame {frame_count}...\")\n",
    "\n",
    "        try:\n",
    "            results = model(frame)\n",
    "        except Exception as e:\n",
    "            print(f\"Model inference error at frame {frame_count}: {e}\")\n",
    "            continue\n",
    "\n",
    "        # Count vehicle classes\n",
    "        vehicle_counts = defaultdict(int)\n",
    "\n",
    "        for result in results:\n",
    "            for box in result.boxes:\n",
    "                class_id = int(box.cls[0])\n",
    "                class_name = model.names[class_id].upper()\n",
    "                vehicle_counts[class_name] += 1\n",
    "\n",
    "        print(f\"Detected at frame {frame_count}: {dict(vehicle_counts)}\")\n",
    "\n",
    "        # Overwrite Firestore document with new data\n",
    "        doc_ref.set(dict(vehicle_counts))\n",
    "\n",
    "    frame_count += 1\n",
    "\n",
    "cap.release()\n",
    "print(\"Video processing completed.\")\n"
   ]
  },
  {
   "cell_type": "code",
   "execution_count": null,
   "id": "f2c8a767-93e9-4451-856f-93a7bc521d01",
   "metadata": {},
   "outputs": [],
   "source": [
    "\n",
    "\n",
    "\n",
    "\n"
   ]
  },
  {
   "cell_type": "code",
   "execution_count": null,
   "id": "a9526d2e-c38d-4cfa-8d7e-5c69019cc2c0",
   "metadata": {},
   "outputs": [],
   "source": []
  },
  {
   "cell_type": "code",
   "execution_count": null,
   "id": "91e7a95e-c0c3-4146-bcd7-41d4f9bb2b5f",
   "metadata": {},
   "outputs": [],
   "source": []
  }
 ],
 "metadata": {
  "kernelspec": {
   "display_name": "Python [conda env:base] *",
   "language": "python",
   "name": "conda-base-py"
  },
  "language_info": {
   "codemirror_mode": {
    "name": "ipython",
    "version": 3
   },
   "file_extension": ".py",
   "mimetype": "text/x-python",
   "name": "python",
   "nbconvert_exporter": "python",
   "pygments_lexer": "ipython3",
   "version": "3.12.7"
  }
 },
 "nbformat": 4,
 "nbformat_minor": 5
}
